{
 "cells": [
  {
   "cell_type": "code",
   "execution_count": 14,
   "id": "aad2ef3b",
   "metadata": {},
   "outputs": [],
   "source": [
    "#使用matplotlib绘制图像，使用numpy准备数据集\n",
    "import  matplotlib.pyplot as plt\n",
    "import numpy as np\n",
    "from sklearn import linear_model"
   ]
  },
  {
   "cell_type": "code",
   "execution_count": 2,
   "id": "3f34ff6c",
   "metadata": {},
   "outputs": [],
   "source": [
    "#准备自变量x，生成数据集，3到6的区间均分间隔40份数\n",
    "x = np.linspace(3,6,40)"
   ]
  },
  {
   "cell_type": "code",
   "execution_count": 3,
   "id": "0ea4c3fb",
   "metadata": {},
   "outputs": [
    {
     "name": "stdout",
     "output_type": "stream",
     "text": [
      "[3.         3.07692308 3.15384615 3.23076923 3.30769231 3.38461538\n",
      " 3.46153846 3.53846154 3.61538462 3.69230769 3.76923077 3.84615385\n",
      " 3.92307692 4.         4.07692308 4.15384615 4.23076923 4.30769231\n",
      " 4.38461538 4.46153846 4.53846154 4.61538462 4.69230769 4.76923077\n",
      " 4.84615385 4.92307692 5.         5.07692308 5.15384615 5.23076923\n",
      " 5.30769231 5.38461538 5.46153846 5.53846154 5.61538462 5.69230769\n",
      " 5.76923077 5.84615385 5.92307692 6.        ]\n"
     ]
    }
   ],
   "source": [
    "print(x)"
   ]
  },
  {
   "cell_type": "code",
   "execution_count": 4,
   "id": "e5419602",
   "metadata": {},
   "outputs": [],
   "source": [
    "#准备因变量y，这一个关于x的假设函数\n",
    "y = 3 * x + 2"
   ]
  },
  {
   "cell_type": "code",
   "execution_count": 5,
   "id": "905699f6",
   "metadata": {},
   "outputs": [],
   "source": [
    "# 添加代码，扰乱点的分布\n",
    "x = x + np.random.rand(40)"
   ]
  },
  {
   "cell_type": "code",
   "execution_count": 6,
   "id": "2a057af8",
   "metadata": {},
   "outputs": [
    {
     "name": "stdout",
     "output_type": "stream",
     "text": [
      "[3.58416396 3.16022634 3.23730245 4.20261325 3.41169046 4.24580387\n",
      " 3.67884043 4.43221237 3.95656802 4.42613623 4.72189255 4.54511839\n",
      " 3.97568907 4.18620569 4.72197002 4.29696971 4.49272664 5.15116948\n",
      " 4.83432198 4.85259378 5.14400976 5.33208024 5.35888999 4.97276672\n",
      " 4.87773911 5.48595415 5.76538094 5.90164689 5.80334999 5.78977812\n",
      " 5.92318266 6.15562105 6.1121177  6.39701318 6.31076947 6.35994077\n",
      " 6.71098821 6.18977509 6.10656901 6.16446336]\n"
     ]
    }
   ],
   "source": [
    "print(x)"
   ]
  },
  {
   "cell_type": "code",
   "execution_count": 7,
   "id": "08304622",
   "metadata": {},
   "outputs": [],
   "source": [
    "#由于fit 需要传入二维矩阵数据，因此需要处理x，y的数据格式,将每个样本信息单独作为矩阵的一行\n",
    "x=[[i] for i in x]\n",
    "y=[[i] for i in y]"
   ]
  },
  {
   "cell_type": "code",
   "execution_count": 8,
   "id": "e058861e",
   "metadata": {},
   "outputs": [
    {
     "name": "stdout",
     "output_type": "stream",
     "text": [
      "[[3.5841639556190286], [3.1602263408111795], [3.2373024511619057], [4.2026132530858025], [3.411690461670262], [4.2458038679849235], [3.6788404319618815], [4.43221236658496], [3.956568021893246], [4.426136225298266], [4.72189254954854], [4.545118388775623], [3.9756890746065894], [4.186205688262007], [4.721970021384637], [4.2969697079354265], [4.492726640193112], [5.151169475357676], [4.834321981434603], [4.852593775477944], [5.144009759087591], [5.332080236460553], [5.35888999160524], [4.972766721363061], [4.877739106410842], [5.485954154274634], [5.765380937423841], [5.9016468901854235], [5.803349989130053], [5.789778116856277], [5.923182664466051], [6.155621045867688], [6.112117702851999], [6.39701318443002], [6.310769474420831], [6.359940772691385], [6.7109882129350575], [6.189775090006125], [6.1065690068635], [6.1644633563493345]]\n"
     ]
    }
   ],
   "source": [
    "print(x)"
   ]
  },
  {
   "cell_type": "code",
   "execution_count": 9,
   "id": "460c6269",
   "metadata": {},
   "outputs": [],
   "source": [
    "# 构建线性回归模型\n",
    "model=linear_model.LinearRegression()"
   ]
  },
  {
   "cell_type": "code",
   "execution_count": 10,
   "id": "fc814fe8",
   "metadata": {},
   "outputs": [
    {
     "data": {
      "text/plain": [
       "LinearRegression()"
      ]
     },
     "execution_count": 10,
     "metadata": {},
     "output_type": "execute_result"
    }
   ],
   "source": [
    "# 训练模型，\"喂入\"数据\n",
    "model.fit(x,y)"
   ]
  },
  {
   "cell_type": "code",
   "execution_count": 11,
   "id": "185468cb",
   "metadata": {},
   "outputs": [],
   "source": [
    "# 准备测试数据 x_，这里准备了三组，如下：\n",
    "x_=[[4],[5],[6]]"
   ]
  },
  {
   "cell_type": "code",
   "execution_count": 12,
   "id": "b610e4fa",
   "metadata": {},
   "outputs": [
    {
     "name": "stdout",
     "output_type": "stream",
     "text": [
      "[[12.81316917]\n",
      " [15.43598679]\n",
      " [18.0588044 ]]\n"
     ]
    }
   ],
   "source": [
    "# 打印预测结果\n",
    "y_=model.predict(x_)\n",
    "print(y_)\n"
   ]
  },
  {
   "cell_type": "code",
   "execution_count": 13,
   "id": "855c58fe",
   "metadata": {},
   "outputs": [
    {
     "name": "stdout",
     "output_type": "stream",
     "text": [
      "w值为: [[2.62281761]]\n",
      "b截距值为: [2.32189871]\n"
     ]
    }
   ],
   "source": [
    "#查看w和b的\n",
    "print(\"w值为:\",model.coef_)\n",
    "print(\"b截距值为:\",model.intercept_)\n"
   ]
  },
  {
   "cell_type": "code",
   "execution_count": 51,
   "id": "500e7628",
   "metadata": {},
   "outputs": [
    {
     "data": {
      "image/png": "[encoded data removed]",
      "text/plain": [
       "<Figure size 640x480 with 1 Axes>"
      ]
     },
     "metadata": {},
     "output_type": "display_data"
    }
   ],
   "source": [
    "#数据集绘制,散点图，图像满足函假设函数图像\n",
    "plt.scatter(x,y)\n",
    "#绘制最佳拟合直线\n",
    "plt.plot(x_,y_,color=\"red\",linewidth=1.0,linestyle=\"-\")\n",
    "plt.legend([\"func\",\"Data\"],loc=0)\n",
    "plt.show()"
   ]
  }
 ],
 "metadata": {
  "kernelspec": {
   "display_name": "Python 3 (ipykernel)",
   "language": "python",
   "name": "python3"
  },
  "language_info": {
   "codemirror_mode": {
    "name": "ipython",
    "version": 3
   },
   "file_extension": ".py",
   "mimetype": "text/x-python",
   "name": "python",
   "nbconvert_exporter": "python",
   "pygments_lexer": "ipython3",
   "version": "3.9.13"
  }
 },
 "nbformat": 4,
 "nbformat_minor": 5
}
